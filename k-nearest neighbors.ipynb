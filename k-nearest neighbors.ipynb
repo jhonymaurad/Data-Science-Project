{
 "cells": [
  {
   "cell_type": "markdown",
   "metadata": {},
   "source": [
    "Use the k-nearest neighbor classifier or regressor to predict the same categorical or quantitative variable that you predicted in Milestone 6 and 7. You should split your data into training and testing data for this milestone.\n",
    "- Use the testing data to make predictions and assess your model. If classifying, compute the confusion matrix and at least two of sensitivity, specificity, precision, or accuracy. If regressing, compute the mean squared error and plot the actual value (x axis) vs. the error or predicted value (y axis).\n",
    "- Write a few sentences on your webpage summarizing the model (what does it appear to be basing its decisions on) and how well it performs."
   ]
  },
  {
   "cell_type": "code",
   "execution_count": 1,
   "metadata": {},
   "outputs": [],
   "source": [
    "import pandas as pd\n",
    "import matplotlib.pyplot as plt\n",
    "import folium\n",
    "\n",
    "from sklearn.preprocessing import MinMaxScaler\n",
    "    \n",
    "from sklearn.model_selection import train_test_split\n",
    "\n",
    "from sklearn.neighbors import KNeighborsClassifier\n",
    "from sklearn.neighbors import KNeighborsRegressor\n",
    "\n",
    "from sklearn.metrics import confusion_matrix\n",
    "\n",
    "from sklearn import tree\n",
    "import graphviz\n",
    "from graphviz import Source\n",
    " \n",
    "from sklearn.tree import export_graphviz\n",
    "\n",
    "%matplotlib inline\n",
    "pd.set_option('display.max_columns', None)"
   ]
  },
  {
   "cell_type": "code",
   "execution_count": 2,
   "metadata": {},
   "outputs": [
    {
     "data": {
      "text/html": [
       "<div>\n",
       "<style scoped>\n",
       "    .dataframe tbody tr th:only-of-type {\n",
       "        vertical-align: middle;\n",
       "    }\n",
       "\n",
       "    .dataframe tbody tr th {\n",
       "        vertical-align: top;\n",
       "    }\n",
       "\n",
       "    .dataframe thead th {\n",
       "        text-align: right;\n",
       "    }\n",
       "</style>\n",
       "<table border=\"1\" class=\"dataframe\">\n",
       "  <thead>\n",
       "    <tr style=\"text-align: right;\">\n",
       "      <th></th>\n",
       "      <th>Mfr Name</th>\n",
       "      <th>Division</th>\n",
       "      <th>Carline</th>\n",
       "      <th># Cyl</th>\n",
       "      <th>Transmission</th>\n",
       "      <th>City FE (Guide) - Conventional Fuel</th>\n",
       "      <th>Hwy FE (Guide) - Conventional Fuel</th>\n",
       "      <th>Comb FE (Guide) - Conventional Fuel</th>\n",
       "      <th>Drive Desc</th>\n",
       "      <th>Annual Fuel1 Cost - Conventional Fuel</th>\n",
       "      <th>FE Rating (1-10 rating on Label)</th>\n",
       "      <th>City CO2 Rounded Adjusted</th>\n",
       "    </tr>\n",
       "  </thead>\n",
       "  <tbody>\n",
       "    <tr>\n",
       "      <th>0</th>\n",
       "      <td>Honda</td>\n",
       "      <td>Acura</td>\n",
       "      <td>NSX</td>\n",
       "      <td>6</td>\n",
       "      <td>Auto(AM-S9)</td>\n",
       "      <td>21</td>\n",
       "      <td>22</td>\n",
       "      <td>21</td>\n",
       "      <td>All Wheel Drive</td>\n",
       "      <td>2150</td>\n",
       "      <td>4</td>\n",
       "      <td>419</td>\n",
       "    </tr>\n",
       "    <tr>\n",
       "      <th>1</th>\n",
       "      <td>FCA US LLC</td>\n",
       "      <td>ALFA ROMEO</td>\n",
       "      <td>4C</td>\n",
       "      <td>4</td>\n",
       "      <td>Auto(AM6)</td>\n",
       "      <td>24</td>\n",
       "      <td>34</td>\n",
       "      <td>28</td>\n",
       "      <td>2-Wheel Drive, Rear</td>\n",
       "      <td>1600</td>\n",
       "      <td>6</td>\n",
       "      <td>365</td>\n",
       "    </tr>\n",
       "    <tr>\n",
       "      <th>2</th>\n",
       "      <td>aston martin</td>\n",
       "      <td>Aston Martin Lagonda Ltd</td>\n",
       "      <td>Vantage V8</td>\n",
       "      <td>8</td>\n",
       "      <td>Auto(S8)</td>\n",
       "      <td>18</td>\n",
       "      <td>25</td>\n",
       "      <td>21</td>\n",
       "      <td>2-Wheel Drive, Rear</td>\n",
       "      <td>2150</td>\n",
       "      <td>4</td>\n",
       "      <td>494</td>\n",
       "    </tr>\n",
       "    <tr>\n",
       "      <th>3</th>\n",
       "      <td>Volkswagen Group of</td>\n",
       "      <td>Audi</td>\n",
       "      <td>TT Roadster quattro</td>\n",
       "      <td>4</td>\n",
       "      <td>Auto(AM-S7)</td>\n",
       "      <td>23</td>\n",
       "      <td>31</td>\n",
       "      <td>26</td>\n",
       "      <td>All Wheel Drive</td>\n",
       "      <td>1450</td>\n",
       "      <td>5</td>\n",
       "      <td>384</td>\n",
       "    </tr>\n",
       "    <tr>\n",
       "      <th>4</th>\n",
       "      <td>BMW</td>\n",
       "      <td>BMW</td>\n",
       "      <td>Z4 sDrive30i</td>\n",
       "      <td>4</td>\n",
       "      <td>Auto(S8)</td>\n",
       "      <td>25</td>\n",
       "      <td>32</td>\n",
       "      <td>28</td>\n",
       "      <td>2-Wheel Drive, Rear</td>\n",
       "      <td>1600</td>\n",
       "      <td>6</td>\n",
       "      <td>355</td>\n",
       "    </tr>\n",
       "  </tbody>\n",
       "</table>\n",
       "</div>"
      ],
      "text/plain": [
       "              Mfr Name                  Division              Carline  # Cyl  \\\n",
       "0                Honda                     Acura                  NSX      6   \n",
       "1           FCA US LLC                ALFA ROMEO                   4C      4   \n",
       "2         aston martin  Aston Martin Lagonda Ltd           Vantage V8      8   \n",
       "3  Volkswagen Group of                      Audi  TT Roadster quattro      4   \n",
       "4                  BMW                       BMW         Z4 sDrive30i      4   \n",
       "\n",
       "  Transmission  City FE (Guide) - Conventional Fuel  \\\n",
       "0  Auto(AM-S9)                                   21   \n",
       "1    Auto(AM6)                                   24   \n",
       "2     Auto(S8)                                   18   \n",
       "3  Auto(AM-S7)                                   23   \n",
       "4     Auto(S8)                                   25   \n",
       "\n",
       "   Hwy FE (Guide) - Conventional Fuel  Comb FE (Guide) - Conventional Fuel  \\\n",
       "0                                  22                                   21   \n",
       "1                                  34                                   28   \n",
       "2                                  25                                   21   \n",
       "3                                  31                                   26   \n",
       "4                                  32                                   28   \n",
       "\n",
       "            Drive Desc  Annual Fuel1 Cost - Conventional Fuel  \\\n",
       "0      All Wheel Drive                                   2150   \n",
       "1  2-Wheel Drive, Rear                                   1600   \n",
       "2  2-Wheel Drive, Rear                                   2150   \n",
       "3      All Wheel Drive                                   1450   \n",
       "4  2-Wheel Drive, Rear                                   1600   \n",
       "\n",
       "   FE Rating (1-10 rating on Label)  City CO2 Rounded Adjusted  \n",
       "0                                 4                        419  \n",
       "1                                 6                        365  \n",
       "2                                 4                        494  \n",
       "3                                 5                        384  \n",
       "4                                 6                        355  "
      ]
     },
     "execution_count": 2,
     "metadata": {},
     "output_type": "execute_result"
    }
   ],
   "source": [
    "cars = pd.read_csv(\"e_9-5-2019-no-sales-_9_4_2019public.csv\")\n",
    "c = ['Division','Mfr Name', 'Carline', '# Cyl', 'Transmission',\\\n",
    "     'City FE (Guide) - Conventional Fuel',\\\n",
    "     'Hwy FE (Guide) - Conventional Fuel', 'Comb FE (Guide) - Conventional Fuel',\\\n",
    "     'Drive Desc', 'City CO2 Rounded Adjusted', 'FE Rating (1-10 rating on Label)',\\\n",
    "    'Annual Fuel1 Cost - Conventional Fuel'\n",
    "    ]\n",
    "cars = pd.read_csv(\"e_9-5-2019-no-sales-_9_4_2019public.csv\", usecols = c)\n",
    "\n",
    "cars.head(5)"
   ]
  },
  {
   "cell_type": "code",
   "execution_count": 3,
   "metadata": {},
   "outputs": [
    {
     "data": {
      "text/html": [
       "<div>\n",
       "<style scoped>\n",
       "    .dataframe tbody tr th:only-of-type {\n",
       "        vertical-align: middle;\n",
       "    }\n",
       "\n",
       "    .dataframe tbody tr th {\n",
       "        vertical-align: top;\n",
       "    }\n",
       "\n",
       "    .dataframe thead th {\n",
       "        text-align: right;\n",
       "    }\n",
       "</style>\n",
       "<table border=\"1\" class=\"dataframe\">\n",
       "  <thead>\n",
       "    <tr style=\"text-align: right;\">\n",
       "      <th></th>\n",
       "      <th>City FE (Guide) - Conventional Fuel</th>\n",
       "    </tr>\n",
       "  </thead>\n",
       "  <tbody>\n",
       "    <tr>\n",
       "      <th>0</th>\n",
       "      <td>21</td>\n",
       "    </tr>\n",
       "    <tr>\n",
       "      <th>1</th>\n",
       "      <td>24</td>\n",
       "    </tr>\n",
       "    <tr>\n",
       "      <th>2</th>\n",
       "      <td>18</td>\n",
       "    </tr>\n",
       "    <tr>\n",
       "      <th>3</th>\n",
       "      <td>23</td>\n",
       "    </tr>\n",
       "    <tr>\n",
       "      <th>4</th>\n",
       "      <td>25</td>\n",
       "    </tr>\n",
       "  </tbody>\n",
       "</table>\n",
       "</div>"
      ],
      "text/plain": [
       "   City FE (Guide) - Conventional Fuel\n",
       "0                                   21\n",
       "1                                   24\n",
       "2                                   18\n",
       "3                                   23\n",
       "4                                   25"
      ]
     },
     "execution_count": 3,
     "metadata": {},
     "output_type": "execute_result"
    }
   ],
   "source": [
    "X = cars.iloc[:,[5]]\n",
    "X.head()"
   ]
  },
  {
   "cell_type": "code",
   "execution_count": 4,
   "metadata": {},
   "outputs": [],
   "source": [
    "y = cars[\"Annual Fuel1 Cost - Conventional Fuel\"]"
   ]
  },
  {
   "cell_type": "code",
   "execution_count": 5,
   "metadata": {},
   "outputs": [],
   "source": [
    "X_train, X_test, y_train, y_test = train_test_split(X, y, test_size = 0.2)"
   ]
  },
  {
   "cell_type": "markdown",
   "metadata": {},
   "source": [
    "Use the training data to train a k-nearest neighbors regressor with k = 3 to predict the annual fuel cost for the test data."
   ]
  },
  {
   "cell_type": "code",
   "execution_count": 6,
   "metadata": {},
   "outputs": [],
   "source": [
    "knn = KNeighborsRegressor(n_neighbors = 3)\n",
    "knn.fit(X_train, y_train)\n",
    "y_pred = knn.predict(X_test)"
   ]
  },
  {
   "cell_type": "code",
   "execution_count": 7,
   "metadata": {},
   "outputs": [
    {
     "data": {
      "text/plain": [
       "30157.627865961185"
      ]
     },
     "execution_count": 7,
     "metadata": {},
     "output_type": "execute_result"
    }
   ],
   "source": [
    "((y_test - y_pred)**2).mean()"
   ]
  },
  {
   "cell_type": "code",
   "execution_count": 13,
   "metadata": {},
   "outputs": [
    {
     "data": {
      "text/plain": [
       "26409.832451499107"
      ]
     },
     "execution_count": 13,
     "metadata": {},
     "output_type": "execute_result"
    }
   ],
   "source": [
    "knn_6 = KNeighborsRegressor(n_neighbors = 6)\n",
    "knn_6.fit(X_train, y_train)\n",
    "y_pred_6 = knn_6.predict(X_test)\n",
    "\n",
    "((y_test - y_pred_6)**2).mean()"
   ]
  },
  {
   "cell_type": "markdown",
   "metadata": {},
   "source": [
    "Using k-nearest neighbors with k = 3, the mean square error is: 27993.827160493805; which is lower than using a decision tree with depth 3."
   ]
  },
  {
   "cell_type": "code",
   "execution_count": 8,
   "metadata": {},
   "outputs": [],
   "source": [
    "knn_mses = []\n",
    "for k in range(1,21):\n",
    "    knn = KNeighborsRegressor(n_neighbors = k)\n",
    "    knn.fit(X_train, y_train)\n",
    "    y_pred = knn.predict(X_test)\n",
    "    mse = ((y_test - y_pred)**2).mean()\n",
    "    knn_mses.append(mse)"
   ]
  },
  {
   "cell_type": "code",
   "execution_count": 9,
   "metadata": {},
   "outputs": [
    {
     "data": {
      "text/plain": [
       "Text(0, 0.5, 'Mean Squared Error')"
      ]
     },
     "execution_count": 9,
     "metadata": {},
     "output_type": "execute_result"
    },
    {
     "data": {
      "image/png": "[encoded data removed]",
      "text/plain": [
       "<Figure size 432x288 with 1 Axes>"
      ]
     },
     "metadata": {
      "needs_background": "light"
     },
     "output_type": "display_data"
    }
   ],
   "source": [
    "plt.plot(range(1,21),knn_mses)\n",
    "plt.title(\"Mean Squared Error for k-nearest neighbors\")\n",
    "plt.xlabel(\"k\")\n",
    "plt.ylabel(\"Mean Squared Error\")"
   ]
  },
  {
   "cell_type": "code",
   "execution_count": 10,
   "metadata": {},
   "outputs": [
    {
     "data": {
      "text/plain": [
       "[47867.06349206349,\n",
       " 38177.083333333336,\n",
       " 30157.627865961185,\n",
       " 28053.075396825396,\n",
       " 27010.31746031746,\n",
       " 26409.832451499107,\n",
       " 26060.09070294783,\n",
       " 25224.91939484127,\n",
       " 24684.866745051942,\n",
       " 24641.071428571428,\n",
       " 24690.49258821987,\n",
       " 24569.89914021163,\n",
       " 24824.01145862685,\n",
       " 24476.534661483634,\n",
       " 24198.41269841269,\n",
       " 24298.69636656746,\n",
       " 24639.046795188657,\n",
       " 24867.72486772485,\n",
       " 24838.027085257,\n",
       " 24983.010912698413]"
      ]
     },
     "execution_count": 10,
     "metadata": {},
     "output_type": "execute_result"
    }
   ],
   "source": [
    "knn_mses"
   ]
  },
  {
   "cell_type": "markdown",
   "metadata": {},
   "source": [
    "k = 6, will give me the lowest mean square error"
   ]
  },
  {
   "cell_type": "code",
   "execution_count": 11,
   "metadata": {},
   "outputs": [
    {
     "data": {
      "text/plain": [
       "Text(0, 0.5, 'Predicted value - Annual cost')"
      ]
     },
     "execution_count": 11,
     "metadata": {},
     "output_type": "execute_result"
    },
    {
     "data": {
      "image/png": "[encoded data removed]",
      "text/plain": [
       "<Figure size 432x288 with 1 Axes>"
      ]
     },
     "metadata": {
      "needs_background": "light"
     },
     "output_type": "display_data"
    }
   ],
   "source": [
    "plt.scatter(y_test , y_pred)\n",
    "plt.title('Actual value vs. Predicted value')\n",
    "plt.xlabel('Actual  value - Annual cost')\n",
    "plt.ylabel('Predicted value - Annual cost')"
   ]
  },
  {
   "cell_type": "code",
   "execution_count": 12,
   "metadata": {},
   "outputs": [
    {
     "data": {
      "text/plain": [
       "<matplotlib.lines.Line2D at 0x26921a17cf8>"
      ]
     },
     "execution_count": 12,
     "metadata": {},
     "output_type": "execute_result"
    },
    {
     "data": {
      "image/png": "[encoded data removed]",
      "text/plain": [
       "<Figure size 432x288 with 1 Axes>"
      ]
     },
     "metadata": {
      "needs_background": "light"
     },
     "output_type": "display_data"
    }
   ],
   "source": [
    "# plt.scatter(y_test , y_pred)\n",
    "# plt.title('Actual value vs. Predicted value')\n",
    "# plt.xlabel('Actual  value - Annual cost')\n",
    "# plt.ylabel('Predicted value - Annual cost')\n",
    "\n",
    "plt.scatter(y_test, y_test - y_pred)\n",
    "plt.axhline()"
   ]
  },
  {
   "cell_type": "code",
   "execution_count": null,
   "metadata": {},
   "outputs": [],
   "source": []
  }
 ],
 "metadata": {
  "kernelspec": {
   "display_name": "Python 3",
   "language": "python",
   "name": "python3"
  },
  "language_info": {
   "codemirror_mode": {
    "name": "ipython",
    "version": 3
   },
   "file_extension": ".py",
   "mimetype": "text/x-python",
   "name": "python",
   "nbconvert_exporter": "python",
   "pygments_lexer": "ipython3",
   "version": "3.7.3"
  }
 },
 "nbformat": 4,
 "nbformat_minor": 2
}
